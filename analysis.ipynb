{
 "cells": [
  {
   "cell_type": "markdown",
   "id": "0cf2a5ec",
   "metadata": {},
   "source": [
    "# Project Performance Analysis\n",
    "\n",
    "This notebook analyzes a synthetic project performance dataset generated for demonstration purposes. The goal is to explore how project characteristics relate to actual delivery performance and build simple predictive models.\n",
    "\n",
    "The dataset includes project-specific features such as team size, estimated duration, budget, complexity score, scope changes, client priority, methodology, and risk level. It also contains calculated fields for the actual duration and whether the project was delivered on time (within 10% of the estimated duration).\n"
   ]
  },
  {
   "cell_type": "code",
   "execution_count": null,
   "id": "044a0c3a",
   "metadata": {},
   "outputs": [],
   "source": [
    "import pandas as pd\n",
    "import numpy as np\n",
    "import matplotlib.pyplot as plt\n",
    "import seaborn as sns\n",
    "from sklearn.model_selection import train_test_split\n",
    "from sklearn.linear_model import LogisticRegression, LinearRegression\n",
    "from sklearn.metrics import accuracy_score, confusion_matrix, mean_absolute_error, mean_squared_error\n",
    "\n",
    "%matplotlib inline\n",
    "sns.set(style='whitegrid')\n",
    "\n",
    "# Load dataset\n",
    "df = pd.read_csv('project_data.csv')\n",
    "\n",
    "# Display the first few rows and summary statistics\n",
    "display(df.head())\n",
    "df.describe(include='all').T\n"
   ]
  },
  {
   "cell_type": "markdown",
   "id": "796d599e",
   "metadata": {},
   "source": [
    "## Exploratory Data Analysis\n",
    "\n",
    "Let's start by exploring the distribution of key numeric variables (team size, estimated duration, budget, complexity score, scope changes, risk level) and examining relationships with the target variable `delivery_on_time`.\n"
   ]
  },
  {
   "cell_type": "code",
   "execution_count": null,
   "id": "c973c556",
   "metadata": {},
   "outputs": [],
   "source": [
    "# Histograms for numeric variables\n",
    "numeric_cols = ['team_size', 'estimated_duration_weeks', 'budget_kusd', 'complexity_score', 'scope_changes', 'risk_level']\n",
    "df[numeric_cols].hist(figsize=(12, 8), bins=15)\n",
    "plt.suptitle('Distribution of Numeric Features', fontsize=16)\n",
    "plt.show()\n",
    "\n",
    "# Countplot for categorical variables\n",
    "categorical_cols = ['client_priority', 'methodology', 'delivery_on_time']\n",
    "for col in categorical_cols:\n",
    "    plt.figure(figsize=(6,4))\n",
    "    sns.countplot(data=df, x=col)\n",
    "    plt.title(f\"Countplot of {col}\")\n",
    "    plt.show()\n"
   ]
  },
  {
   "cell_type": "markdown",
   "id": "ae240303",
   "metadata": {},
   "source": [
    "### Correlations\n",
    "\n",
    "Next, we evaluate pairwise correlations between numeric features and visualize them using a heatmap.\n"
   ]
  },
  {
   "cell_type": "code",
   "execution_count": null,
   "id": "43f2c604",
   "metadata": {},
   "outputs": [],
   "source": [
    "# Compute correlation matrix for numeric variables\n",
    "corr_matrix = df[['team_size', 'estimated_duration_weeks', 'budget_kusd', 'complexity_score', 'scope_changes', 'risk_level', 'actual_duration_weeks']].corr()\n",
    "\n",
    "plt.figure(figsize=(8, 6))\n",
    "sns.heatmap(corr_matrix, annot=True, cmap='coolwarm', fmt='.2f', square=True)\n",
    "plt.title('Correlation Matrix')\n",
    "plt.show()\n"
   ]
  },
  {
   "cell_type": "markdown",
   "id": "9c2c8a7b",
   "metadata": {},
   "source": [
    "### Relationship between Features and Delivery Outcome\n",
    "\n",
    "We'll examine how certain features differ across projects that were delivered on time versus late.\n"
   ]
  },
  {
   "cell_type": "code",
   "execution_count": null,
   "id": "ab3cbe8e",
   "metadata": {},
   "outputs": [],
   "source": [
    "# Boxplots of numeric features by delivery outcome\n",
    "for col in ['team_size', 'estimated_duration_weeks', 'budget_kusd', 'complexity_score', 'scope_changes', 'risk_level']:\n",
    "    plt.figure(figsize=(6,4))\n",
    "    sns.boxplot(data=df, x='delivery_on_time', y=col)\n",
    "    plt.title(f\"{col} by Delivery Outcome\")\n",
    "    plt.xlabel('Delivered On Time (1 = Yes, 0 = No)')\n",
    "    plt.show()\n"
   ]
  },
  {
   "cell_type": "markdown",
   "id": "79a981d2",
   "metadata": {},
   "source": [
    "## Predictive Modeling\n",
    "\n",
    "We'll build two simple predictive models:\n",
    "\n",
    "1. **Logistic Regression** to predict whether a project will be delivered on time based on features.\n",
    "2. **Linear Regression** to predict the actual duration of a project.\n",
    "\n",
    "These models provide a baseline for understanding relationships in the dataset.\n"
   ]
  },
  {
   "cell_type": "code",
   "execution_count": null,
   "id": "e2038597",
   "metadata": {},
   "outputs": [],
   "source": [
    "# One-hot encode categorical variables\n",
    "df_encoded = pd.get_dummies(df, columns=['client_priority', 'methodology'], drop_first=True)\n",
    "\n",
    "# Logistic Regression\n",
    "X_log = df_encoded.drop(columns=['project_id', 'actual_duration_weeks', 'delivery_on_time'])\n",
    "y_log = df_encoded['delivery_on_time']\n",
    "\n",
    "X_train_log, X_test_log, y_train_log, y_test_log = train_test_split(X_log, y_log, test_size=0.3, random_state=42)\n",
    "\n",
    "log_reg = LogisticRegression(max_iter=1000)\n",
    "log_reg.fit(X_train_log, y_train_log)\n",
    "y_pred_log = log_reg.predict(X_test_log)\n",
    "accuracy = accuracy_score(y_test_log, y_pred_log)\n",
    "conf_mat = confusion_matrix(y_test_log, y_pred_log)\n",
    "\n",
    "print(f\"Logistic Regression Accuracy: {accuracy:.3f}\")\n",
    "print(\"Confusion Matrix:\n",
    "\", conf_mat)\n",
    "\n",
    "# Linear Regression\n",
    "X_lin = df_encoded.drop(columns=['project_id', 'actual_duration_weeks', 'delivery_on_time'])\n",
    "y_lin = df_encoded['actual_duration_weeks']\n",
    "\n",
    "X_train_lin, X_test_lin, y_train_lin, y_test_lin = train_test_split(X_lin, y_lin, test_size=0.3, random_state=42)\n",
    "\n",
    "lin_reg = LinearRegression()\n",
    "lin_reg.fit(X_train_lin, y_train_lin)\n",
    "y_pred_lin = lin_reg.predict(X_test_lin)\n",
    "mae = mean_absolute_error(y_test_lin, y_pred_lin)\n",
    "rmse = np.sqrt(mean_squared_error(y_test_lin, y_pred_lin))\n",
    "\n",
    "print(f\"Linear Regression MAE: {mae:.2f} weeks\")\n",
    "print(f\"Linear Regression RMSE: {rmse:.2f} weeks\")\n"
   ]
  },
  {
   "cell_type": "markdown",
   "id": "dc363b74",
   "metadata": {},
   "source": [
    "## Conclusions and Next Steps\n",
    "\n",
    "This notebook demonstrates an end-to-end workflow for analyzing project performance data:\n",
    "\n",
    "- **Data Exploration**: We explored distributions, relationships, and correlations between various project attributes.\n",
    "- **Predictive Modeling**: We built basic logistic and linear regression models to predict delivery outcomes and actual project duration.\n",
    "\n",
    "Potential next steps include evaluating more sophisticated models (e.g., decision trees, random forests), tuning hyperparameters, and exploring interactions between features. Additionally, one might simulate different project scenarios or incorporate external data (such as team experience or stakeholder engagement metrics) to enhance the analysis.\n"
   ]
  }
 ],
 "metadata": {
  "kernelspec": {
   "display_name": "Python 3",
   "language": "python",
   "name": "python3"
  },
  "language_info": {
   "name": "python",
   "version": "3.10"
  }
 },
 "nbformat": 4,
 "nbformat_minor": 5
}
